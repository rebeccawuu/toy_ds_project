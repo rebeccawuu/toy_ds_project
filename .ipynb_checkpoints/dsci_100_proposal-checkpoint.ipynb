{
 "cells": [
  {
   "cell_type": "markdown",
   "id": "ca233d4b-c8ce-41e6-845d-3eaa9fda231a",
   "metadata": {},
   "source": [
    "**Title:**\n",
    "Prediction Model for Heart Disease Diagnosis using Heart Disease Dataset from University of California, Irvine\n"
   ]
  },
  {
   "cell_type": "markdown",
   "id": "4eb28ed7-3dca-4b87-b275-328716a9a10d",
   "metadata": {},
   "source": [
    "**Introduction:**\n",
    "\n",
    "Heart Disease is a major issue which contributes to global morbidity and mortality (Dai et al., 2021). In the United States of America, one person dies every 34 seconds from a heart disease (Centers for Disease Control and Prevention, 2022). Many people who have a heart disease do not show any physical symptoms and as a result are not diagnosed (Jin 2014). In turn, these individuals are not taking medications to help prevent the progression of the heart disease. Thus, predictive models are needed to help diagnose patients especially those who are asymptomatic in order to intervene with the progression of the disease. \n",
    "\n",
    "In this project, we will be examining the Heart Disease Data from the University of California, Irvine's Machine Learning Repository. The dataset is collected from three separate countries, the United States, Switerland, and Hungary. It is composed of 14 different variables which are age, sex, chest pain type, resting blood pressure, serum cholesterol, fasting blood sugar, resting electrocardiographic results, maximum heart rate achieved, exercise-induced angina, oldpeak — ST depression induced by exercise relative to rest, the slope of the peak exercise ST segment, number of major vessels and Thalassemia. All 14 variables are quantatitive.\n",
    "\n",
    "The major role of this project is to use the variables from the dataset to help predict whether a patient has a heart disease or not. In the methods we will discuss further which variables we will be examining."
   ]
  },
  {
   "cell_type": "markdown",
   "id": "859f60c1-cea3-45b1-adcf-549a6ffec384",
   "metadata": {},
   "source": [
    "**Preliminary exploratory data analysis:**\n",
    "\n"
   ]
  },
  {
   "cell_type": "markdown",
   "id": "61c59890-67d7-45d1-b1fb-1418faa664eb",
   "metadata": {},
   "source": [
    "We obtained the heart disease data from the UCI ICS website as seen in the below code. Originally, the data was collected from four separate regions, Hungary, Switzerland, Cleveland, and Long Beach. As the original data sets did not have the column names, we added that into our data set based on the documentation. In our data set, we combined all four regions to create the \"heart_data\" dataset for our project. To do so we used rbind as all datasets which had the same number of variables."
   ]
  },
  {
   "cell_type": "code",
   "execution_count": 4,
   "id": "aa52ac48-7419-4c6b-ad1e-7dd0889a7ecc",
   "metadata": {},
   "outputs": [
    {
     "name": "stderr",
     "output_type": "stream",
     "text": [
      "\u001b[1mRows: \u001b[22m\u001b[34m294\u001b[39m \u001b[1mColumns: \u001b[22m\u001b[34m14\u001b[39m\n",
      "\u001b[36m──\u001b[39m \u001b[1mColumn specification\u001b[22m \u001b[36m────────────────────────────────────────────────────────\u001b[39m\n",
      "\u001b[1mDelimiter:\u001b[22m \",\"\n",
      "\u001b[31mchr\u001b[39m (9): X4, X5, X6, X7, X8, X9, X11, X12, X13\n",
      "\u001b[32mdbl\u001b[39m (5): X1, X2, X3, X10, X14\n",
      "\n",
      "\u001b[36mℹ\u001b[39m Use `spec()` to retrieve the full column specification for this data.\n",
      "\u001b[36mℹ\u001b[39m Specify the column types or set `show_col_types = FALSE` to quiet this message.\n",
      "\u001b[1mRows: \u001b[22m\u001b[34m123\u001b[39m \u001b[1mColumns: \u001b[22m\u001b[34m14\u001b[39m\n",
      "\u001b[36m──\u001b[39m \u001b[1mColumn specification\u001b[22m \u001b[36m────────────────────────────────────────────────────────\u001b[39m\n",
      "\u001b[1mDelimiter:\u001b[22m \",\"\n",
      "\u001b[31mchr\u001b[39m (9): X4, X6, X7, X8, X9, X10, X11, X12, X13\n",
      "\u001b[32mdbl\u001b[39m (5): X1, X2, X3, X5, X14\n",
      "\n",
      "\u001b[36mℹ\u001b[39m Use `spec()` to retrieve the full column specification for this data.\n",
      "\u001b[36mℹ\u001b[39m Specify the column types or set `show_col_types = FALSE` to quiet this message.\n",
      "\u001b[1mRows: \u001b[22m\u001b[34m303\u001b[39m \u001b[1mColumns: \u001b[22m\u001b[34m14\u001b[39m\n",
      "\u001b[36m──\u001b[39m \u001b[1mColumn specification\u001b[22m \u001b[36m────────────────────────────────────────────────────────\u001b[39m\n",
      "\u001b[1mDelimiter:\u001b[22m \",\"\n",
      "\u001b[31mchr\u001b[39m  (2): X12, X13\n",
      "\u001b[32mdbl\u001b[39m (12): X1, X2, X3, X4, X5, X6, X7, X8, X9, X10, X11, X14\n",
      "\n",
      "\u001b[36mℹ\u001b[39m Use `spec()` to retrieve the full column specification for this data.\n",
      "\u001b[36mℹ\u001b[39m Specify the column types or set `show_col_types = FALSE` to quiet this message.\n",
      "\u001b[1mRows: \u001b[22m\u001b[34m200\u001b[39m \u001b[1mColumns: \u001b[22m\u001b[34m14\u001b[39m\n",
      "\u001b[36m──\u001b[39m \u001b[1mColumn specification\u001b[22m \u001b[36m────────────────────────────────────────────────────────\u001b[39m\n",
      "\u001b[1mDelimiter:\u001b[22m \",\"\n",
      "\u001b[31mchr\u001b[39m (9): X4, X5, X6, X8, X9, X10, X11, X12, X13\n",
      "\u001b[32mdbl\u001b[39m (5): X1, X2, X3, X7, X14\n",
      "\n",
      "\u001b[36mℹ\u001b[39m Use `spec()` to retrieve the full column specification for this data.\n",
      "\u001b[36mℹ\u001b[39m Specify the column types or set `show_col_types = FALSE` to quiet this message.\n"
     ]
    }
   ],
   "source": [
    "library(tidyverse)\n",
    "library(ggplot2)\n",
    "hungary <- read_csv (\"https://archive.ics.uci.edu/ml/machine-learning-databases/heart-disease/processed.hungarian.data\", col_names = FALSE)\n",
    "colnames(hungary) <- c(\"age\", \"sex\", \"cp\", \"trestbps\", \"chol\", \"fbs\", \"restecg\", \"thalach\", \"exang\", \"oldpeak\", \"slope\", \"ca\", \"thal\", \"num\")\n",
    "\n",
    "switzerland<- read_csv (\"https://archive.ics.uci.edu/ml/machine-learning-databases/heart-disease/processed.switzerland.data\", col_names = FALSE)\n",
    "colnames(switzerland) <- c(\"age\", \"sex\", \"cp\", \"trestbps\", \"chol\", \"fbs\", \"restecg\", \"thalach\", \"exang\", \"oldpeak\", \"slope\", \"ca\", \"thal\", \"num\")\n",
    "\n",
    "cleveland<- read_csv (\"https://archive.ics.uci.edu/ml/machine-learning-databases/heart-disease/processed.cleveland.data\", col_names = FALSE)\n",
    "colnames(cleveland) <- c(\"age\", \"sex\", \"cp\", \"trestbps\", \"chol\", \"fbs\", \"restecg\", \"thalach\", \"exang\", \"oldpeak\", \"slope\", \"ca\", \"thal\", \"num\")\n",
    "\n",
    "va<- read_csv (\"https://archive.ics.uci.edu/ml/machine-learning-databases/heart-disease/processed.va.data\", col_names = FALSE)\n",
    "colnames(va) <- c(\"age\", \"sex\", \"cp\", \"trestbps\", \"chol\", \"fbs\", \"restecg\", \"thalach\", \"exang\", \"oldpeak\", \"slope\", \"ca\", \"thal\", \"num\")\n",
    "\n",
    "heart_data <- rbind (hungary,switzerland,cleveland,va)\n"
   ]
  },
  {
   "cell_type": "markdown",
   "id": "826f66bc-8efd-4aa8-837d-c35fe4355e03",
   "metadata": {},
   "source": [
    "From the 14 variables, we will examine only 6 which are: age, sex, blood pressure, cholestrol, fasting blooding sugar, and diagnosis of heart disease.\n",
    "\n",
    "This is because the risk factors associated with heart disease according to the Centre for Disease and Prevention (Centers for Disease Control and Prevention, 2022) are:\n",
    "\n",
    "-*age* (in years)\n",
    " \n",
    "-*sex* (0= Female, 1= Male)\n",
    "\n",
    "-high blood pressure (which is measured using the variable *trestbps* from the data set, in mmHg)\n",
    "\n",
    "-high cholesterol (which is the variable *chol* from our data set, in mg/dl)\n",
    "\n",
    "-diabetes (which is the variable *fbs* from our data set, if 0= False/ No Diabetes, 1= True/Diabetes) \n",
    "\n",
    "\n",
    "For the diagnosis of heart disease, the original dataset set that as the \"num\" variable. \n",
    "From the original dataset's documentation  num=> 1 represented a diagnosis of heart disease and num=0 represented no heart disease diagnosis. The original dataset separated the heart disease diagnosis based on different severity levels. However since we are only interested in whether there was a diagnosis or not, we changed the labelling to a binary label with 0 and 1, where any num greater or equal to 1 became 1 indicating a diagnosis of heart disease."
   ]
  },
  {
   "cell_type": "code",
   "execution_count": 9,
   "id": "3a7916a6-beb2-471d-bff2-b05e29c230d1",
   "metadata": {},
   "outputs": [],
   "source": [
    "heart_data_cleaned <- heart_data %>%\n",
    "  select('age', 'sex', 'trestbps', 'chol', 'fbs', 'num')\n",
    "\n",
    "heart_data_cleaned$num [heart_data_cleaned$num == \"2\"] <- \"1\"\n",
    "heart_data_cleaned$num [heart_data_cleaned$num == \"3\"] <- \"1\"\n",
    "heart_data_cleaned$num [heart_data_cleaned$num == \"4\"] <- \"1\""
   ]
  },
  {
   "cell_type": "markdown",
   "id": "02768788-4a26-4c6e-8d2f-369c8bd2b925",
   "metadata": {},
   "source": [
    "Below, we created a summary table of our 6 variables where we show the number of observations, mean or proportion (for variables with levels), number of missing data, and the range or levels for each variable."
   ]
  },
  {
   "cell_type": "code",
   "execution_count": 11,
   "id": "bfe75133-8d9a-4519-81bd-70a4cf2cf3a5",
   "metadata": {},
   "outputs": [
    {
     "name": "stderr",
     "output_type": "stream",
     "text": [
      "Warning message in mean(as.numeric(heart_data_cleaned$trestbps), na.rm = TRUE):\n",
      "“NAs introduced by coercion”\n",
      "Warning message in mean(as.numeric(heart_data_cleaned$chol), na.rm = TRUE):\n",
      "“NAs introduced by coercion”\n"
     ]
    },
    {
     "data": {
      "text/plain": [
       "                                Number of Observations Mean or Proportion     \n",
       "Age (years)                     920                    53.51                  \n",
       "Sex                             920                    21.09% Female          \n",
       "Resting Blood Pressure (mmHg)   920                    132.13                 \n",
       "Cholesterol (mg/dl)             920                    199.13                 \n",
       "Fasting Blood Sugar > 120 mg/dl 920                    75.22% False           \n",
       "Heart Disease Diagnosis         920                    44.67% No Heart Disease\n",
       "                                Number of Missing Data\n",
       "Age (years)                     0                     \n",
       "Sex                             0                     \n",
       "Resting Blood Pressure (mmHg)   59                    \n",
       "Cholesterol (mg/dl)             30                    \n",
       "Fasting Blood Sugar > 120 mg/dl 90                    \n",
       "Heart Disease Diagnosis         0                     \n",
       "                                Range or Levels                        \n",
       "Age (years)                     28-77                                  \n",
       "Sex                             0 = Female, 1 = Male                   \n",
       "Resting Blood Pressure (mmHg)   0-98                                   \n",
       "Cholesterol (mg/dl)             0-85                                   \n",
       "Fasting Blood Sugar > 120 mg/dl 0 = False, 1 = True                    \n",
       "Heart Disease Diagnosis         0 = No Heart Disease, 1 = Heart Disease"
      ]
     },
     "metadata": {},
     "output_type": "display_data"
    }
   ],
   "source": [
    "#-------------The Commented out code below is to get the range-------------\n",
    "# as.numeric(range(heart_data_cleaned$age, na.rm=TRUE))\n",
    "# as.numeric(range(heart_data_cleaned$sex, na.rm=TRUE))\n",
    "# as.numeric(range(heart_data_cleaned$trestbps, na.rm=TRUE))\n",
    "# as.numeric(range(heart_data_cleaned$chol, na.rm=TRUE))\n",
    "# as.numeric(range(heart_data_cleaned$fbs, na.rm=TRUE))\n",
    "# as.numeric(range(heart_data_cleaned$num, na.rm=TRUE))\n",
    "\n",
    "tab <- matrix(c(nrow(heart_data_cleaned), round(mean(heart_data_cleaned$age), digits=2), sum(heart_data_cleaned$age==\"?\"), '28-77',\n",
    "                nrow(heart_data_cleaned), \"21.09% Female\" ,sum(heart_data_cleaned$sex==\"?\"), \"0 = Female, 1 = Male\",\n",
    "                nrow(heart_data_cleaned), round(mean(as.numeric(heart_data_cleaned$trestbps), na.rm=TRUE), digits=2), sum(heart_data_cleaned$trestbps==\"?\"), \"0-98\",\n",
    "                nrow(heart_data_cleaned), round(mean(as.numeric(heart_data_cleaned$chol), na.rm=TRUE), digits=2), sum(heart_data_cleaned$chol==\"?\"), \"0-85\",\n",
    "                nrow(heart_data_cleaned), \"75.22% False\", sum(heart_data_cleaned$fbs==\"?\"), \"0 = False, 1 = True\",\n",
    "                nrow(heart_data_cleaned), \"44.67% No Heart Disease\",sum(is.na(heart_data_cleaned$num)), \"0 = No Heart Disease, 1 = Heart Disease\"), ncol=4, byrow=TRUE)\n",
    "colnames(tab) <- c('Number of Observations','Mean or Proportion','Number of Missing Data', 'Range or Levels')\n",
    "rownames(tab) <- c('Age (years)','Sex','Resting Blood Pressure (mmHg)','Cholesterol (mg/dl)','Fasting Blood Sugar > 120 mg/dl','Heart Disease Diagnosis')\n",
    "tab <- as.table(tab)\n",
    "tab"
   ]
  },
  {
   "cell_type": "markdown",
   "id": "eba67ede-536b-4ddd-ac43-9a11879cf0eb",
   "metadata": {},
   "source": [
    "**Methods:**\n",
    "\n",
    "From the 14 variables, we will examine only 6 which are: age, sex, blood pressure, cholestrol, fasting blooding sugar, and heart disease diagnosis. This is because the risk factors associated with heart disease according to the Centre for Disease and Prevention is age, sex, high blood pressure (which we will measure using the variable trestbps from the data set), high low-density lipoprotein (LDL) cholesterol (which we will measure using the variable chol from the data set), and diabetes (which we will measure using the variable fbs from the data set which tells us if someone has high blood sugar levels indicative of diabetes) (Centers for Disease Control and Prevention, 2022). \n",
    "\n",
    "From our data, we will split the data into a training and testing set. We will use 75% of our data as the training set and 25% as the testing set. To decide which data points becomes the training or testing set, we will shuffle the data and use stratification to ensure the two split subsets of data have roughly equal proportions of the different labels. We will apply k-nearest neighbour to do the classification and use the \"tidymodels\" package.\n",
    "\n",
    "To get a better estimate of accuracy of our knn classifiers, we will utilize cross-validation where we split the training data into a training set and a validation set. Then obtain the accuracy using only the validation set and take the average of the accuracy. This procedure will help us pick the K that maximizes validation accuracy. After we have decided on a K, we will evaluate the model built with the training set on the test set. \n",
    "After testing, if the model is not accurate or a good fit, we may decide to examine other variables from the dataset.\n",
    "\n",
    "To visualize our results we will create pair-wise scatter plots of all the different variables. In these plots we will colour the actual versus the predicted labels on the testing set to examine the accuracy of the model visually."
   ]
  },
  {
   "cell_type": "markdown",
   "id": "28a61991-5fbe-4109-b83a-1e4173345ad7",
   "metadata": {},
   "source": [
    "**Expected outcomes and significance:**\n",
    "\n",
    "**What do you expect to find?**\n",
    "\n",
    "We expect to be able to create a predictive model of whether a patient has heart disease or not based on the 14 variables we examined.\n",
    "\n",
    "**What impact could such findings have?**\n",
    "\n",
    "As many people have asymptomatic heart diseases, they are often undiagnosed and in turn not treated for their disease. This could affect their quality of life. Thus with our predictive model, we can help diagnose patients with or without symptoms. Additionally, this could help healthcare providers as this could be an additional tool they could use in their practice. This could help lower costs for patients and the healthcare system as diagnosing a disease before it becomes severe could put measures in place to prevent further progression which could be costly.\n",
    "\n",
    "**What future questions could this lead to?**\n",
    "\n",
    "Future questions this project could lead to is predicting whether a patient is likely to develop a heart disease as opposed to whether they currently have one or not."
   ]
  },
  {
   "cell_type": "markdown",
   "id": "68b125ff-d813-40c6-9356-f20f01eec190",
   "metadata": {},
   "source": [
    "**References:**\n",
    "\n",
    "1. Centers for Disease Control and Prevention. (2022, October 14). Heart disease facts. Centers for Disease Control and Prevention. Retrieved October 17, 2022, from https://www.cdc.gov/heartdisease/facts.htm \n",
    "2. Centers for Disease Control and Prevention. (2022, September 8). Heart disease and stroke. Centers for Disease Control and Prevention. Retrieved October 18, 2022, from https://www.cdc.gov/chronicdisease/resources/publications/factsheets/heart-disease-stroke.htm \n",
    "3. Dai, H., Bragazzi, N. L., Younis, A., Zhong, W., Liu, X., Wu, J., & Grossman, E. (2021). Worldwide trends in prevalence, mortality, and disability-adjusted life years for hypertensive heart disease from 1990 to 2017. Hypertension, 77(4), 1223-1233.\n",
    "4. Jin J. Testing for “Silent” Coronary Heart Disease. JAMA. 2014;312(8):858. doi:10.1001/jama.2014.9191\n",
    "\n"
   ]
  }
 ],
 "metadata": {
  "kernelspec": {
   "display_name": "R",
   "language": "R",
   "name": "ir"
  },
  "language_info": {
   "codemirror_mode": "r",
   "file_extension": ".r",
   "mimetype": "text/x-r-source",
   "name": "R",
   "pygments_lexer": "r",
   "version": "4.1.3"
  }
 },
 "nbformat": 4,
 "nbformat_minor": 5
}
